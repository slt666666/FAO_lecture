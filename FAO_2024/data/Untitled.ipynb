{
 "cells": [
  {
   "cell_type": "code",
   "execution_count": 122,
   "id": "a595abb8-06ea-4871-b664-45f7efe05a99",
   "metadata": {},
   "outputs": [],
   "source": [
    "import numpy as np\n",
    "import pandas as pd\n",
    "import random\n",
    "import copy\n",
    "\n",
    "enki = [\"A\", \"T\", \"G\", \"C\"]\n",
    "\n",
    "ref_list = random.choices(enki, k=10000)\n",
    "reference = \"\".join(ref_list)\n",
    "mutation = copy.copy(ref_list)\n",
    "\n",
    "mutate_positions = [random.randint(0, 9999) for i in range(50)]\n",
    "for pos in mutate_positions:\n",
    "    ori = mutation[pos]\n",
    "    if ori == \"A\":\n",
    "        mutation[pos] = \"T\"\n",
    "    elif ori == \"T\":\n",
    "        mutation[pos] = \"G\"\n",
    "    elif ori == \"G\":\n",
    "        mutation[pos] = \"C\"\n",
    "    elif ori == \"C\":\n",
    "        mutation[pos] = \"A\"\n",
    "\n",
    "mutation = \"\".join(mutation)"
   ]
  },
  {
   "cell_type": "code",
   "execution_count": 139,
   "id": "b63ed00f-7829-4ec2-87ab-941b5b38d8a5",
   "metadata": {},
   "outputs": [],
   "source": [
    "with open(\"simulation/mutations.fa\", \"w\") as f:\n",
    "    f.write(\">chr1\\n\")\n",
    "    f.write(mutation)"
   ]
  },
  {
   "cell_type": "code",
   "execution_count": 129,
   "id": "123bde72-b244-4b68-9989-678f555aac90",
   "metadata": {},
   "outputs": [],
   "source": [
    "F2_genotype = [list(reference)]\n",
    "F2_seq = []\n",
    "F2_num = 100\n",
    "for i in range(F2_num):\n",
    "    recom_points = np.sort([random.randint(0, 9999) for i in range(10)])\n",
    "    if random.randint(0, 9999) > 5000:\n",
    "        new_geno = reference[:recom_points[0]]+mutation[recom_points[0]:recom_points[1]]+reference[recom_points[1]:recom_points[2]]+mutation[recom_points[2]:recom_points[3]]+\\\n",
    "        reference[recom_points[3]:recom_points[4]]+mutation[recom_points[4]:recom_points[5]]+reference[recom_points[5]:recom_points[6]]+mutation[recom_points[6]:recom_points[7]]+\\\n",
    "        reference[recom_points[7]:recom_points[8]]+mutation[recom_points[8]:recom_points[9]]+reference[recom_points[9]:]\n",
    "    else:\n",
    "        new_geno = mutation[:recom_points[0]]+reference[recom_points[0]:recom_points[1]]+mutation[recom_points[1]:recom_points[2]]+reference[recom_points[2]:recom_points[3]]+\\\n",
    "        mutation[recom_points[3]:recom_points[4]]+reference[recom_points[4]:recom_points[5]]+mutation[recom_points[5]:recom_points[6]]+reference[recom_points[6]:recom_points[7]]+\\\n",
    "        mutation[recom_points[7]:recom_points[8]]+reference[recom_points[8]:recom_points[9]]+mutation[recom_points[9]:]\n",
    "    F2_genotype.append(list(new_geno))\n",
    "    F2_seq.append(new_geno)"
   ]
  },
  {
   "cell_type": "code",
   "execution_count": 130,
   "id": "9ad967b2-f2ee-488b-8abf-d3dd05cdfb1b",
   "metadata": {},
   "outputs": [
    {
     "name": "stdout",
     "output_type": "stream",
     "text": [
      "19\n"
     ]
    },
    {
     "data": {
      "text/plain": [
       "66"
      ]
     },
     "execution_count": 130,
     "metadata": {},
     "output_type": "execute_result"
    }
   ],
   "source": [
    "F2_genotype = pd.DataFrame(F2_genotype)\n",
    "F2_genotype = F2_genotype.loc[:, (F2_genotype == F2_genotype.iloc[0, :]).sum() != 101]\n",
    "mut_ratio = (F2_genotype == F2_genotype.iloc[0, :]).sum().values\n",
    "print(list(mut_ratio).index(mut_ratio.max()))\n",
    "mut_ind = list(mut_ratio).index(mut_ratio.max())\n",
    "mut_ratio[list(mut_ratio).index(mut_ratio.max())]"
   ]
  },
  {
   "cell_type": "code",
   "execution_count": 131,
   "id": "f4d41c75-e5ac-48d6-b745-f53d0d836dbf",
   "metadata": {},
   "outputs": [],
   "source": [
    "with open(\"Cultivar.fa\", \"w\") as f:\n",
    "    f.write(\">chr1\\n\")\n",
    "    f.write(reference)"
   ]
  },
  {
   "cell_type": "code",
   "execution_count": 136,
   "id": "5539090c-e20a-4051-8885-4bf150b878b4",
   "metadata": {},
   "outputs": [],
   "source": [
    "with open(\"F2_genome.fa\", \"w\") as f:\n",
    "    for i, key in enumerate((F2_genotype.iloc[1:, mut_ind] != F2_genotype.iloc[0, mut_ind]).values):\n",
    "        if key:\n",
    "            f.write(f\">sample{i}\\n\")\n",
    "            f.write(F2_seq[i])\n",
    "            f.write(\"\\n\")"
   ]
  },
  {
   "cell_type": "code",
   "execution_count": 137,
   "id": "00556a64-efec-4519-92a0-c6ed108daac1",
   "metadata": {},
   "outputs": [
    {
     "data": {
      "text/plain": [
       "4369"
      ]
     },
     "execution_count": 137,
     "metadata": {},
     "output_type": "execute_result"
    }
   ],
   "source": [
    "np.sort(mutate_positions)[mut_ind]"
   ]
  },
  {
   "cell_type": "code",
   "execution_count": null,
   "id": "8cf6e55f-6e4e-4b86-8628-594c8e4bd5cc",
   "metadata": {},
   "outputs": [],
   "source": [
    "300 de wgsim -d 10 -1 20 -2 20 -N 150 CultivarB.fa Mutated_Cultivar_read.fastq Mutated_Cultivar_read2.fastq\n",
    "3000   wgsim -d 100 -1 150 -2 150 -N 1500 F2_genome.fa bulked_1.fastq bulked_2.fastq"
   ]
  },
  {
   "cell_type": "code",
   "execution_count": 142,
   "id": "7c875aad-d816-46cc-a572-0276af212427",
   "metadata": {},
   "outputs": [],
   "source": [
    "def simulate_fastq(F2_num):\n",
    "    with open(\"genome/CultivarB.fa\", mode=\"r\") as f:\n",
    "        ref = f.readlines()[1]\n",
    "    with open(\"simulation/mutations.fa\", mode=\"r\") as f:\n",
    "        mut = f.readlines()[1]\n",
    "\n",
    "    F2_genotype = [list(reference)]\n",
    "    F2_seq = []\n",
    "    for i in range(F2_num):\n",
    "        recom_points = np.sort([random.randint(0, 9999) for i in range(10)])\n",
    "        if random.randint(0, 9999) > 5000:\n",
    "            new_geno = reference[:recom_points[0]]+mutation[recom_points[0]:recom_points[1]]+reference[recom_points[1]:recom_points[2]]+mutation[recom_points[2]:recom_points[3]]+\\\n",
    "            reference[recom_points[3]:recom_points[4]]+mutation[recom_points[4]:recom_points[5]]+reference[recom_points[5]:recom_points[6]]+mutation[recom_points[6]:recom_points[7]]+\\\n",
    "            reference[recom_points[7]:recom_points[8]]+mutation[recom_points[8]:recom_points[9]]+reference[recom_points[9]:]\n",
    "        else:\n",
    "            new_geno = mutation[:recom_points[0]]+reference[recom_points[0]:recom_points[1]]+mutation[recom_points[1]:recom_points[2]]+reference[recom_points[2]:recom_points[3]]+\\\n",
    "            mutation[recom_points[3]:recom_points[4]]+reference[recom_points[4]:recom_points[5]]+mutation[recom_points[5]:recom_points[6]]+reference[recom_points[6]:recom_points[7]]+\\\n",
    "            mutation[recom_points[7]:recom_points[8]]+reference[recom_points[8]:recom_points[9]]+mutation[recom_points[9]:]\n",
    "        F2_genotype.append(list(new_geno))\n",
    "        F2_seq.append(new_geno)\n",
    "        \n",
    "        F2_genotype = pd.DataFrame(F2_genotype)\n",
    "        F2_genotype = F2_genotype.loc[:, (F2_genotype == F2_genotype.iloc[0, :]).sum() != F2_num+1]\n",
    "        \n",
    "        with open(\"F2_genome.fa\", \"w\") as f:\n",
    "            for i, key in enumerate((F2_genotype.iloc[1:, 19] != F2_genotype.iloc[0, 19]).values):\n",
    "                if key:\n",
    "                    f.write(f\">sample{i}\\n\")\n",
    "                    f.write(F2_seq[i])\n",
    "                    f.write(\"\\n\")"
   ]
  },
  {
   "cell_type": "markdown",
   "id": "e3e9da35-db06-49d1-9fcb-64dc5f726c68",
   "metadata": {},
   "source": [
    "# QTLseq"
   ]
  },
  {
   "cell_type": "code",
   "execution_count": 419,
   "id": "dcadf25b-3e25-49d2-b03a-496a1fb01bf4",
   "metadata": {},
   "outputs": [
    {
     "data": {
      "text/plain": [
       "(array([ 2.,  2.,  8.,  5., 10.,  9.,  8.,  5.,  0.,  1.]),\n",
       " array([-12.81317349,  -9.88760653,  -6.96203957,  -4.03647261,\n",
       "         -1.11090565,   1.81466131,   4.74022827,   7.66579523,\n",
       "         10.59136219,  13.51692915,  16.44249611]),\n",
       " <BarContainer object of 10 artists>)"
      ]
     },
     "execution_count": 419,
     "metadata": {},
     "output_type": "execute_result"
    },
    {
     "data": {
      "image/png": "[encoded data removed]",
      "text/plain": [
       "<Figure size 432x288 with 1 Axes>"
      ]
     },
     "metadata": {
      "needs_background": "light"
     },
     "output_type": "display_data"
    }
   ],
   "source": [
    "import numpy as np\n",
    "import matplotlib.pyplot as plt\n",
    "\n",
    "mu = 0\n",
    "sigma = 7\n",
    "n_sample = 50\n",
    "effects = np.random.normal(mu, sigma, n_sample)\n",
    "plt.hist(effects)"
   ]
  },
  {
   "cell_type": "code",
   "execution_count": 424,
   "id": "b6f3fa48-fdbc-4885-b0e7-971286f0c448",
   "metadata": {},
   "outputs": [
    {
     "data": {
      "text/plain": [
       "array([ 1.64656347e-01,  1.85102742e+00,  4.67044862e+00,  7.66562094e+00,\n",
       "       -2.56115417e+00,  4.38918289e+00,  7.80757081e+00,  1.00220190e+00,\n",
       "        1.22829847e+00, -3.11754555e+00, -5.40511802e-01,  6.18824690e+00,\n",
       "        4.41199836e+00,  1.32767573e+00,  1.69444118e+00,  8.41450007e+00,\n",
       "       -5.34162106e+00,  6.48760733e+00, -2.02808097e+00, -5.19645524e+00,\n",
       "        8.13778906e+00,  2.20353186e+00,  6.31486176e+00,  6.36419116e+00,\n",
       "        2.00877506e+00,  6.67009046e+00,  5.23403746e+00,  1.31649738e+00,\n",
       "        8.40394596e-01, -1.61565807e-01, -5.82085552e+00, -5.46691807e+00,\n",
       "       -1.28131735e+01, -4.31698143e+00, -4.77843938e+00, -5.40496901e+00,\n",
       "       -4.00759462e+00, -3.50813322e+00, -7.48831032e+00, -6.63627070e+00,\n",
       "        9.45289997e+00,  7.30365077e+00,  3.53991263e+00,  3.90794702e+00,\n",
       "        5.00000000e+01, -8.76222436e+00, -1.77703337e-02,  8.26826546e+00,\n",
       "        3.94445354e+00, -1.11201989e+01])"
      ]
     },
     "execution_count": 424,
     "metadata": {},
     "output_type": "execute_result"
    }
   ],
   "source": [
    "# effects[13] = -30\n",
    "effects[44] = 50\n",
    "# effects = effects+1\n",
    "effects\n",
    "# -1.37204775e+01\n",
    "# 1.30497216e+01"
   ]
  },
  {
   "cell_type": "code",
   "execution_count": 431,
   "id": "b62e6136-612a-4383-916c-6ff797a464ae",
   "metadata": {},
   "outputs": [
    {
     "name": "stdout",
     "output_type": "stream",
     "text": [
      "8790\n"
     ]
    }
   ],
   "source": [
    "# print(np.sort(mutate_positions)[13])\n",
    "print(np.sort(mutate_positions)[44])"
   ]
  },
  {
   "cell_type": "code",
   "execution_count": 425,
   "id": "5726c41d-6115-419e-9b6e-7fb9850c6b90",
   "metadata": {},
   "outputs": [],
   "source": [
    "import numpy as np\n",
    "import pandas as pd\n",
    "import random\n",
    "import copy\n",
    "\n",
    "enki = [\"A\", \"T\", \"G\", \"C\"]\n",
    "\n",
    "ref_list = random.choices(enki, k=10000)\n",
    "reference = \"\".join(ref_list)\n",
    "mutation = copy.copy(ref_list)\n",
    "\n",
    "mutate_positions = [random.randint(0, 9999) for i in range(50)]\n",
    "for pos in mutate_positions:\n",
    "    ori = mutation[pos]\n",
    "    if ori == \"A\":\n",
    "        mutation[pos] = \"T\"\n",
    "    elif ori == \"T\":\n",
    "        mutation[pos] = \"G\"\n",
    "    elif ori == \"G\":\n",
    "        mutation[pos] = \"C\"\n",
    "    elif ori == \"C\":\n",
    "        mutation[pos] = \"A\"\n",
    "\n",
    "mutation = \"\".join(mutation)"
   ]
  },
  {
   "cell_type": "code",
   "execution_count": 426,
   "id": "504a330e-cff5-4586-a17f-9a2049dbebbf",
   "metadata": {},
   "outputs": [],
   "source": [
    "with open(\"genome2/CultivarB.fa\", \"w\") as f:\n",
    "    f.write(\">chr1\\n\")\n",
    "    f.write(reference)"
   ]
  },
  {
   "cell_type": "code",
   "execution_count": 427,
   "id": "5e804c61-942d-4af6-a475-d7a16ac8f1f0",
   "metadata": {},
   "outputs": [],
   "source": [
    "F2_genotype = [list(reference)]\n",
    "F2_seq = []\n",
    "F2_num = 100\n",
    "for i in range(F2_num):\n",
    "    recom_points = np.sort([random.randint(0, 9999) for i in range(10)])\n",
    "    if random.randint(0, 9999) > 5000:\n",
    "        new_geno = reference[:recom_points[0]]+mutation[recom_points[0]:recom_points[1]]+reference[recom_points[1]:recom_points[2]]+mutation[recom_points[2]:recom_points[3]]+\\\n",
    "        reference[recom_points[3]:recom_points[4]]+mutation[recom_points[4]:recom_points[5]]+reference[recom_points[5]:recom_points[6]]+mutation[recom_points[6]:recom_points[7]]+\\\n",
    "        reference[recom_points[7]:recom_points[8]]+mutation[recom_points[8]:recom_points[9]]+reference[recom_points[9]:]\n",
    "    else:\n",
    "        new_geno = mutation[:recom_points[0]]+reference[recom_points[0]:recom_points[1]]+mutation[recom_points[1]:recom_points[2]]+reference[recom_points[2]:recom_points[3]]+\\\n",
    "        mutation[recom_points[3]:recom_points[4]]+reference[recom_points[4]:recom_points[5]]+mutation[recom_points[5]:recom_points[6]]+reference[recom_points[6]:recom_points[7]]+\\\n",
    "        mutation[recom_points[7]:recom_points[8]]+reference[recom_points[8]:recom_points[9]]+mutation[recom_points[9]:]\n",
    "    F2_genotype.append(list(new_geno))\n",
    "    F2_seq.append(new_geno)\n",
    "F2_genotype = pd.DataFrame(F2_genotype)\n",
    "F2_genotype = F2_genotype.loc[:, (F2_genotype == F2_genotype.iloc[0, :]).sum() != 101]"
   ]
  },
  {
   "cell_type": "code",
   "execution_count": 428,
   "id": "241ef349-df16-48da-aebe-8022c6c73388",
   "metadata": {},
   "outputs": [
    {
     "data": {
      "text/plain": [
       "(array([ 2.,  2.,  4.,  6.,  8.,  7.,  4., 10.,  7.,  6., 10., 10.,  6.,\n",
       "         5.,  3.,  4.,  0.,  3.,  2.,  1.]),\n",
       " array([ 69.74643728,  78.10882448,  86.47121167,  94.83359887,\n",
       "        103.19598606, 111.55837326, 119.92076046, 128.28314765,\n",
       "        136.64553485, 145.00792204, 153.37030924, 161.73269643,\n",
       "        170.09508363, 178.45747082, 186.81985802, 195.18224521,\n",
       "        203.54463241, 211.9070196 , 220.2694068 , 228.63179399,\n",
       "        236.99418119]),\n",
       " <BarContainer object of 20 artists>)"
      ]
     },
     "execution_count": 428,
     "metadata": {},
     "output_type": "execute_result"
    },
    {
     "data": {
      "image/png": "[encoded data removed]",
      "text/plain": [
       "<Figure size 432x288 with 1 Axes>"
      ]
     },
     "metadata": {
      "needs_background": "light"
     },
     "output_type": "display_data"
    }
   ],
   "source": [
    "F2_genotype_TF = F2_genotype != F2_genotype.iloc[0, :]\n",
    "phenotypes = []\n",
    "for i in range(F2_num):\n",
    "    phenotypes.append(100 + sum(effects[F2_genotype_TF.iloc[i+1, :].values]))\n",
    "plt.hist(phenotypes, bins=20)"
   ]
  },
  {
   "cell_type": "code",
   "execution_count": 429,
   "id": "11495e63-333a-4513-8850-276057576b2b",
   "metadata": {},
   "outputs": [],
   "source": [
    "with open(\"low_10_F2_genome.fa\", \"w\") as f:\n",
    "    for i in np.argsort(phenotypes)[:10]:\n",
    "        f.write(f\">sample{i}\\n\")\n",
    "        f.write(F2_seq[i])\n",
    "        f.write(\"\\n\")\n",
    "        \n",
    "with open(\"high_10_F2_genome.fa\", \"w\") as f:\n",
    "    for i in np.argsort(phenotypes)[-10:]:\n",
    "        f.write(f\">sample{i}\\n\")\n",
    "        f.write(F2_seq[i])\n",
    "        f.write(\"\\n\")"
   ]
  },
  {
   "cell_type": "code",
   "execution_count": 430,
   "id": "c9e76ee3-c834-4589-9d10-2116f93892e9",
   "metadata": {},
   "outputs": [
    {
     "data": {
      "text/plain": [
       "0"
      ]
     },
     "execution_count": 430,
     "metadata": {},
     "output_type": "execute_result"
    }
   ],
   "source": [
    "import os\n",
    "os.system(f'wgsim -e 0 -r 0 -R 0 -X 0 -d 300 -1 150 -2 150 -N 500 low_10_F2_genome.fa reads2/low_bulked_read1.fastq reads2/low_bulked_read2.fastq')\n",
    "os.system(f'wgsim -e 0 -r 0 -R 0 -X 0 -d 300 -1 150 -2 150 -N 500 high_10_F2_genome.fa reads2/high_bulked_read1.fastq reads2/high_bulked_read2.fastq')"
   ]
  },
  {
   "cell_type": "code",
   "execution_count": null,
   "id": "9077d43d-284c-4a11-bdba-68e758dc7595",
   "metadata": {},
   "outputs": [],
   "source": []
  }
 ],
 "metadata": {
  "kernelspec": {
   "display_name": "Python 3",
   "language": "python",
   "name": "python3"
  },
  "language_info": {
   "codemirror_mode": {
    "name": "ipython",
    "version": 3
   },
   "file_extension": ".py",
   "mimetype": "text/x-python",
   "name": "python",
   "nbconvert_exporter": "python",
   "pygments_lexer": "ipython3",
   "version": "3.8.10"
  }
 },
 "nbformat": 4,
 "nbformat_minor": 5
}
