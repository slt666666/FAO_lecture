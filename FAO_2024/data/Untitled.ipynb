{
 "cells": [
  {
   "cell_type": "code",
   "execution_count": 122,
   "id": "a595abb8-06ea-4871-b664-45f7efe05a99",
   "metadata": {},
   "outputs": [],
   "source": [
    "import numpy as np\n",
    "import pandas as pd\n",
    "import random\n",
    "import copy\n",
    "\n",
    "enki = [\"A\", \"T\", \"G\", \"C\"]\n",
    "\n",
    "ref_list = random.choices(enki, k=10000)\n",
    "reference = \"\".join(ref_list)\n",
    "mutation = copy.copy(ref_list)\n",
    "\n",
    "mutate_positions = [random.randint(0, 9999) for i in range(50)]\n",
    "for pos in mutate_positions:\n",
    "    ori = mutation[pos]\n",
    "    if ori == \"A\":\n",
    "        mutation[pos] = \"T\"\n",
    "    elif ori == \"T\":\n",
    "        mutation[pos] = \"G\"\n",
    "    elif ori == \"G\":\n",
    "        mutation[pos] = \"C\"\n",
    "    elif ori == \"C\":\n",
    "        mutation[pos] = \"A\"\n",
    "\n",
    "mutation = \"\".join(mutation)"
   ]
  },
  {
   "cell_type": "code",
   "execution_count": 139,
   "id": "b63ed00f-7829-4ec2-87ab-941b5b38d8a5",
   "metadata": {},
   "outputs": [],
   "source": [
    "with open(\"simulation/mutations.fa\", \"w\") as f:\n",
    "    f.write(\">chr1\\n\")\n",
    "    f.write(mutation)"
   ]
  },
  {
   "cell_type": "code",
   "execution_count": 129,
   "id": "123bde72-b244-4b68-9989-678f555aac90",
   "metadata": {},
   "outputs": [],
   "source": [
    "F2_genotype = [list(reference)]\n",
    "F2_seq = []\n",
    "F2_num = 100\n",
    "for i in range(F2_num):\n",
    "    recom_points = np.sort([random.randint(0, 9999) for i in range(10)])\n",
    "    if random.randint(0, 9999) > 5000:\n",
    "        new_geno = reference[:recom_points[0]]+mutation[recom_points[0]:recom_points[1]]+reference[recom_points[1]:recom_points[2]]+mutation[recom_points[2]:recom_points[3]]+\\\n",
    "        reference[recom_points[3]:recom_points[4]]+mutation[recom_points[4]:recom_points[5]]+reference[recom_points[5]:recom_points[6]]+mutation[recom_points[6]:recom_points[7]]+\\\n",
    "        reference[recom_points[7]:recom_points[8]]+mutation[recom_points[8]:recom_points[9]]+reference[recom_points[9]:]\n",
    "    else:\n",
    "        new_geno = mutation[:recom_points[0]]+reference[recom_points[0]:recom_points[1]]+mutation[recom_points[1]:recom_points[2]]+reference[recom_points[2]:recom_points[3]]+\\\n",
    "        mutation[recom_points[3]:recom_points[4]]+reference[recom_points[4]:recom_points[5]]+mutation[recom_points[5]:recom_points[6]]+reference[recom_points[6]:recom_points[7]]+\\\n",
    "        mutation[recom_points[7]:recom_points[8]]+reference[recom_points[8]:recom_points[9]]+mutation[recom_points[9]:]\n",
    "    F2_genotype.append(list(new_geno))\n",
    "    F2_seq.append(new_geno)"
   ]
  },
  {
   "cell_type": "code",
   "execution_count": 130,
   "id": "9ad967b2-f2ee-488b-8abf-d3dd05cdfb1b",
   "metadata": {},
   "outputs": [
    {
     "name": "stdout",
     "output_type": "stream",
     "text": [
      "19\n"
     ]
    },
    {
     "data": {
      "text/plain": [
       "66"
      ]
     },
     "execution_count": 130,
     "metadata": {},
     "output_type": "execute_result"
    }
   ],
   "source": [
    "F2_genotype = pd.DataFrame(F2_genotype)\n",
    "F2_genotype = F2_genotype.loc[:, (F2_genotype == F2_genotype.iloc[0, :]).sum() != 101]\n",
    "mut_ratio = (F2_genotype == F2_genotype.iloc[0, :]).sum().values\n",
    "print(list(mut_ratio).index(mut_ratio.max()))\n",
    "mut_ind = list(mut_ratio).index(mut_ratio.max())\n",
    "mut_ratio[list(mut_ratio).index(mut_ratio.max())]"
   ]
  },
  {
   "cell_type": "code",
   "execution_count": 131,
   "id": "f4d41c75-e5ac-48d6-b745-f53d0d836dbf",
   "metadata": {},
   "outputs": [],
   "source": [
    "with open(\"Cultivar.fa\", \"w\") as f:\n",
    "    f.write(\">chr1\\n\")\n",
    "    f.write(reference)"
   ]
  },
  {
   "cell_type": "code",
   "execution_count": 136,
   "id": "5539090c-e20a-4051-8885-4bf150b878b4",
   "metadata": {},
   "outputs": [],
   "source": [
    "with open(\"F2_genome.fa\", \"w\") as f:\n",
    "    for i, key in enumerate((F2_genotype.iloc[1:, mut_ind] != F2_genotype.iloc[0, mut_ind]).values):\n",
    "        if key:\n",
    "            f.write(f\">sample{i}\\n\")\n",
    "            f.write(F2_seq[i])\n",
    "            f.write(\"\\n\")"
   ]
  },
  {
   "cell_type": "code",
   "execution_count": 137,
   "id": "00556a64-efec-4519-92a0-c6ed108daac1",
   "metadata": {},
   "outputs": [
    {
     "data": {
      "text/plain": [
       "4369"
      ]
     },
     "execution_count": 137,
     "metadata": {},
     "output_type": "execute_result"
    }
   ],
   "source": [
    "np.sort(mutate_positions)[mut_ind]"
   ]
  },
  {
   "cell_type": "code",
   "execution_count": null,
   "id": "8cf6e55f-6e4e-4b86-8628-594c8e4bd5cc",
   "metadata": {},
   "outputs": [],
   "source": [
    "300 de wgsim -d 10 -1 20 -2 20 -N 150 CultivarB.fa Mutated_Cultivar_read.fastq Mutated_Cultivar_read2.fastq\n",
    "3000   wgsim -d 100 -1 150 -2 150 -N 1500 F2_genome.fa bulked_1.fastq bulked_2.fastq"
   ]
  },
  {
   "cell_type": "code",
   "execution_count": 142,
   "id": "7c875aad-d816-46cc-a572-0276af212427",
   "metadata": {},
   "outputs": [],
   "source": [
    "def simulate_fastq(F2_num):\n",
    "    with open(\"genome/CultivarB.fa\", mode=\"r\") as f:\n",
    "        ref = f.readlines()[1]\n",
    "    with open(\"simulation/mutations.fa\", mode=\"r\") as f:\n",
    "        mut = f.readlines()[1]\n",
    "\n",
    "    F2_genotype = [list(reference)]\n",
    "    F2_seq = []\n",
    "    for i in range(F2_num):\n",
    "        recom_points = np.sort([random.randint(0, 9999) for i in range(10)])\n",
    "        if random.randint(0, 9999) > 5000:\n",
    "            new_geno = reference[:recom_points[0]]+mutation[recom_points[0]:recom_points[1]]+reference[recom_points[1]:recom_points[2]]+mutation[recom_points[2]:recom_points[3]]+\\\n",
    "            reference[recom_points[3]:recom_points[4]]+mutation[recom_points[4]:recom_points[5]]+reference[recom_points[5]:recom_points[6]]+mutation[recom_points[6]:recom_points[7]]+\\\n",
    "            reference[recom_points[7]:recom_points[8]]+mutation[recom_points[8]:recom_points[9]]+reference[recom_points[9]:]\n",
    "        else:\n",
    "            new_geno = mutation[:recom_points[0]]+reference[recom_points[0]:recom_points[1]]+mutation[recom_points[1]:recom_points[2]]+reference[recom_points[2]:recom_points[3]]+\\\n",
    "            mutation[recom_points[3]:recom_points[4]]+reference[recom_points[4]:recom_points[5]]+mutation[recom_points[5]:recom_points[6]]+reference[recom_points[6]:recom_points[7]]+\\\n",
    "            mutation[recom_points[7]:recom_points[8]]+reference[recom_points[8]:recom_points[9]]+mutation[recom_points[9]:]\n",
    "        F2_genotype.append(list(new_geno))\n",
    "        F2_seq.append(new_geno)\n",
    "        \n",
    "        F2_genotype = pd.DataFrame(F2_genotype)\n",
    "        F2_genotype = F2_genotype.loc[:, (F2_genotype == F2_genotype.iloc[0, :]).sum() != F2_num+1]\n",
    "        \n",
    "        with open(\"F2_genome.fa\", \"w\") as f:\n",
    "            for i, key in enumerate((F2_genotype.iloc[1:, 19] != F2_genotype.iloc[0, 19]).values):\n",
    "                if key:\n",
    "                    f.write(f\">sample{i}\\n\")\n",
    "                    f.write(F2_seq[i])\n",
    "                    f.write(\"\\n\")"
   ]
  },
  {
   "cell_type": "markdown",
   "id": "e3e9da35-db06-49d1-9fcb-64dc5f726c68",
   "metadata": {},
   "source": [
    "# QTLseq"
   ]
  },
  {
   "cell_type": "code",
   "execution_count": 601,
   "id": "dcadf25b-3e25-49d2-b03a-496a1fb01bf4",
   "metadata": {},
   "outputs": [
    {
     "data": {
      "text/plain": [
       "(array([18., 24.,  7.,  0.,  0.,  0.,  0.,  0.,  0.,  1.]),\n",
       " array([-10.52001165,  -2.46801048,   5.58399068,  13.63599185,\n",
       "         21.68799301,  29.73999418,  37.79199534,  45.84399651,\n",
       "         53.89599767,  61.94799884,  70.        ]),\n",
       " <BarContainer object of 10 artists>)"
      ]
     },
     "execution_count": 601,
     "metadata": {},
     "output_type": "execute_result"
    },
    {
     "data": {
      "image/png": "[encoded data removed]",
      "text/plain": [
       "<Figure size 432x288 with 1 Axes>"
      ]
     },
     "metadata": {
      "needs_background": "light"
     },
     "output_type": "display_data"
    }
   ],
   "source": [
    "import numpy as np\n",
    "import matplotlib.pyplot as plt\n",
    "\n",
    "mu = 0\n",
    "sigma = 7\n",
    "n_sample = 50\n",
    "effects = np.random.normal(mu, sigma, n_sample)\n",
    "plt.hist(effects)"
   ]
  },
  {
   "cell_type": "code",
   "execution_count": 610,
   "id": "b6f3fa48-fdbc-4885-b0e7-971286f0c448",
   "metadata": {},
   "outputs": [
    {
     "data": {
      "text/plain": [
       "array([ -5.40121136,   0.1885115 ,   0.81811983,  -4.8661257 ,\n",
       "         7.69189898,  -6.33293383,  -3.87681125,   7.39410397,\n",
       "         4.55388646,  -3.27209965,  -0.47244111,  -3.76720961,\n",
       "       -10.52001165,   8.06772734,   5.70873553,   3.76655748,\n",
       "         4.67868852,  -0.81854957,  -7.2504389 ,  -3.29345837,\n",
       "         2.42448301,   9.63859105,  -6.29386467,   4.54517263,\n",
       "        -9.23354214,  -1.56277711,   0.59868743,   4.42552916,\n",
       "        -6.94960093,  50.        ,  -1.96047583,   2.50748408,\n",
       "        -5.42703769,  -4.58465225,   1.66218683,   4.19768835,\n",
       "         1.85128103,  -6.9785079 ,  -4.52724641,   0.30833165,\n",
       "        -2.19187474,  11.69773027,   1.26420526,   0.13125975,\n",
       "        -2.00152901,  -7.71410966,   3.51873069,   9.06987151,\n",
       "        -3.99493123,   0.27525015])"
      ]
     },
     "execution_count": 610,
     "metadata": {},
     "output_type": "execute_result"
    }
   ],
   "source": [
    "# effects[8] = -30\n",
    "effects[29] = 50\n",
    "# effects = effects+1\n",
    "effects\n",
    "# -1.37204775e+01\n",
    "# 1.30497216e+01"
   ]
  },
  {
   "cell_type": "code",
   "execution_count": 596,
   "id": "b62e6136-612a-4383-916c-6ff797a464ae",
   "metadata": {},
   "outputs": [
    {
     "name": "stdout",
     "output_type": "stream",
     "text": [
      "1870\n",
      "5783\n"
     ]
    }
   ],
   "source": [
    "print(np.sort(mutate_positions)[8])\n",
    "print(np.sort(mutate_positions)[29])"
   ]
  },
  {
   "cell_type": "code",
   "execution_count": 425,
   "id": "5726c41d-6115-419e-9b6e-7fb9850c6b90",
   "metadata": {},
   "outputs": [],
   "source": [
    "import numpy as np\n",
    "import pandas as pd\n",
    "import random\n",
    "import copy\n",
    "\n",
    "enki = [\"A\", \"T\", \"G\", \"C\"]\n",
    "\n",
    "ref_list = random.choices(enki, k=10000)\n",
    "reference = \"\".join(ref_list)\n",
    "mutation = copy.copy(ref_list)\n",
    "\n",
    "mutate_positions = [random.randint(0, 9999) for i in range(50)]\n",
    "for pos in mutate_positions:\n",
    "    ori = mutation[pos]\n",
    "    if ori == \"A\":\n",
    "        mutation[pos] = \"T\"\n",
    "    elif ori == \"T\":\n",
    "        mutation[pos] = \"G\"\n",
    "    elif ori == \"G\":\n",
    "        mutation[pos] = \"C\"\n",
    "    elif ori == \"C\":\n",
    "        mutation[pos] = \"A\"\n",
    "\n",
    "mutation = \"\".join(mutation)"
   ]
  },
  {
   "cell_type": "code",
   "execution_count": 426,
   "id": "504a330e-cff5-4586-a17f-9a2049dbebbf",
   "metadata": {},
   "outputs": [],
   "source": [
    "with open(\"genome2/CultivarB.fa\", \"w\") as f:\n",
    "    f.write(\">chr1\\n\")\n",
    "    f.write(reference)"
   ]
  },
  {
   "cell_type": "code",
   "execution_count": 613,
   "id": "5e804c61-942d-4af6-a475-d7a16ac8f1f0",
   "metadata": {},
   "outputs": [],
   "source": [
    "F2_genotype = [list(reference)]\n",
    "F2_seq = []\n",
    "F2_num = 100\n",
    "for i in range(F2_num):\n",
    "    recom_points = np.sort([random.randint(0, 9999) for i in range(10)])\n",
    "    if random.randint(0, 9999) > 5000:\n",
    "        new_geno = reference[:recom_points[0]]+mutation[recom_points[0]:recom_points[1]]+reference[recom_points[1]:recom_points[2]]+mutation[recom_points[2]:recom_points[3]]+\\\n",
    "        reference[recom_points[3]:recom_points[4]]+mutation[recom_points[4]:recom_points[5]]+reference[recom_points[5]:recom_points[6]]+mutation[recom_points[6]:recom_points[7]]+\\\n",
    "        reference[recom_points[7]:recom_points[8]]+mutation[recom_points[8]:recom_points[9]]+reference[recom_points[9]:]\n",
    "    else:\n",
    "        new_geno = mutation[:recom_points[0]]+reference[recom_points[0]:recom_points[1]]+mutation[recom_points[1]:recom_points[2]]+reference[recom_points[2]:recom_points[3]]+\\\n",
    "        mutation[recom_points[3]:recom_points[4]]+reference[recom_points[4]:recom_points[5]]+mutation[recom_points[5]:recom_points[6]]+reference[recom_points[6]:recom_points[7]]+\\\n",
    "        mutation[recom_points[7]:recom_points[8]]+reference[recom_points[8]:recom_points[9]]+mutation[recom_points[9]:]\n",
    "    F2_genotype.append(list(new_geno))\n",
    "    F2_seq.append(new_geno)\n",
    "F2_genotype = pd.DataFrame(F2_genotype)\n",
    "F2_genotype = F2_genotype.loc[:, (F2_genotype == F2_genotype.iloc[0, :]).sum() != 101]"
   ]
  },
  {
   "cell_type": "code",
   "execution_count": 614,
   "id": "241ef349-df16-48da-aebe-8022c6c73388",
   "metadata": {},
   "outputs": [
    {
     "data": {
      "text/plain": [
       "(array([ 3.,  2.,  4.,  2.,  6.,  8.,  2., 10.,  8.,  6.,  4.,  4.,  6.,\n",
       "         5.,  4.,  6.,  9.,  4.,  4.,  3.]),\n",
       " array([ 64.71719299,  69.7409487 ,  74.76470441,  79.78846011,\n",
       "         84.81221582,  89.83597153,  94.85972724,  99.88348294,\n",
       "        104.90723865, 109.93099436, 114.95475006, 119.97850577,\n",
       "        125.00226148, 130.02601718, 135.04977289, 140.0735286 ,\n",
       "        145.0972843 , 150.12104001, 155.14479572, 160.16855143,\n",
       "        165.19230713]),\n",
       " <BarContainer object of 20 artists>)"
      ]
     },
     "execution_count": 614,
     "metadata": {},
     "output_type": "execute_result"
    },
    {
     "data": {
      "image/png": "[encoded data removed]",
      "text/plain": [
       "<Figure size 432x288 with 1 Axes>"
      ]
     },
     "metadata": {
      "needs_background": "light"
     },
     "output_type": "display_data"
    }
   ],
   "source": [
    "F2_genotype_TF = F2_genotype != F2_genotype.iloc[0, :]\n",
    "phenotypes = []\n",
    "for i in range(F2_num):\n",
    "    phenotypes.append(100 + sum(effects[F2_genotype_TF.iloc[i+1, :].values]))\n",
    "plt.hist(phenotypes, bins=20)"
   ]
  },
  {
   "cell_type": "code",
   "execution_count": 615,
   "id": "11495e63-333a-4513-8850-276057576b2b",
   "metadata": {},
   "outputs": [],
   "source": [
    "with open(\"low_10_F2_genome.fa\", \"w\") as f:\n",
    "    for i in np.argsort(phenotypes)[:10]:\n",
    "        f.write(f\">sample{i}\\n\")\n",
    "        f.write(F2_seq[i])\n",
    "        f.write(\"\\n\")\n",
    "        \n",
    "with open(\"high_10_F2_genome.fa\", \"w\") as f:\n",
    "    for i in np.argsort(phenotypes)[-10:]:\n",
    "        f.write(f\">sample{i}\\n\")\n",
    "        f.write(F2_seq[i])\n",
    "        f.write(\"\\n\")"
   ]
  },
  {
   "cell_type": "code",
   "execution_count": 619,
   "id": "c9e76ee3-c834-4589-9d10-2116f93892e9",
   "metadata": {},
   "outputs": [
    {
     "data": {
      "text/plain": [
       "0"
      ]
     },
     "execution_count": 619,
     "metadata": {},
     "output_type": "execute_result"
    }
   ],
   "source": [
    "import os\n",
    "os.system(f'wgsim -e 0 -r 0 -R 0 -X 0 -d 300 -1 150 -2 150 -N 500 low_10_F2_genome.fa reads2/low_bulked_read1.fastq reads2/low_bulked_read2.fastq')\n",
    "os.system(f'wgsim -e 0 -r 0 -R 0 -X 0 -d 300 -1 150 -2 150 -N 500 high_10_F2_genome.fa reads2/high_bulked_read1.fastq reads2/high_bulked_read2.fastq')"
   ]
  },
  {
   "cell_type": "code",
   "execution_count": null,
   "id": "9077d43d-284c-4a11-bdba-68e758dc7595",
   "metadata": {},
   "outputs": [],
   "source": []
  }
 ],
 "metadata": {
  "kernelspec": {
   "display_name": "Python 3",
   "language": "python",
   "name": "python3"
  },
  "language_info": {
   "codemirror_mode": {
    "name": "ipython",
    "version": 3
   },
   "file_extension": ".py",
   "mimetype": "text/x-python",
   "name": "python",
   "nbconvert_exporter": "python",
   "pygments_lexer": "ipython3",
   "version": "3.8.10"
  }
 },
 "nbformat": 4,
 "nbformat_minor": 5
}
